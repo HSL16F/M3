{
 "cells": [
  {
   "cell_type": "code",
   "execution_count": 32,
   "metadata": {},
   "outputs": [],
   "source": [
    "import time\n",
    "import requests\n",
    "from bs4 import BeautifulSoup as Bs\n",
    "import re\n",
    "import pandas as pd\n",
    "from datetime import datetime, timedelta\n",
    "import finnhub\n",
    "\n",
    "# Types of requests/queries for website\n",
    "access_request_type = [\"search\", \"headline\", \"company information\"]\n",
    "\n",
    "\n",
    "headers = {\n",
    "         'user-agent': 'Mozilla/5.0 (Windows NT 10.0; Win64; x64)AppleWebKit/537.36 (KHTML, like Gecko) '\n",
    "                       'Chrome/75.0.3770.142 Safari/537.36'\n",
    "    }\n"
   ]
  },
  {
   "cell_type": "code",
   "execution_count": 4,
   "metadata": {},
   "outputs": [],
   "source": [
    "def company_info(ticker):\n",
    "    # Scrape info from https://www.wsj.com/market-data/quotes/{ticker}/company-people\n",
    "    url = f\"https://www.wsj.com/market-data/quotes/{ticker}/company-people\"\n",
    "    subj_list = requests.get(url, headers=headers).content\n",
    "    soup = Bs(subj_list, features=\"html.parser\")\n",
    "    # Looping for data-module-zone=\"company_description\"\n",
    "    description_div = soup.find(attrs={\"data-module-zone\": \"company_description\"})\n",
    "    if description_div:\n",
    "        description = description_div.find(class_={\"txtBody\"})\n",
    "        return description.text\n",
    "    else:\n",
    "        return \"Description not found.\"\n",
    "    \n",
    "    # print(company_info(\"TSLA\"))"
   ]
  },
  {
   "cell_type": "code",
   "execution_count": 12,
   "metadata": {},
   "outputs": [
    {
     "name": "stdout",
     "output_type": "stream",
     "text": [
      "{\"s\":\"ok\",\"t\":[1698811200,1698897600,1698984000],\"o\":[171.0,175.52,174.24],\"h\":[174.23,177.78,176.82],\"l\":[170.12,175.46,173.35],\"c\":[173.97,177.57,176.65],\"v\":[56934906,77334752,79829246]}\n"
     ]
    },
    {
     "data": {
      "text/plain": [
       "[171.0, 175.52, 174.24]"
      ]
     },
     "execution_count": 12,
     "metadata": {},
     "output_type": "execute_result"
    }
   ],
   "source": [
    "\n",
    "url = \"https://api.marketdata.app/v1/stocks/candles/D/AAPL?from=2023-11-01&to=2023-11-04\"\n",
    "\n",
    "response = requests.request(\"GET\", url)\n",
    "\n",
    "print(response.text)\n",
    "response.json()[\"o\"]"
   ]
  },
  {
   "cell_type": "code",
   "execution_count": 33,
   "metadata": {},
   "outputs": [
    {
     "name": "stdout",
     "output_type": "stream",
     "text": [
      "{'c': 189.79, 'd': -0.18, 'dp': -0.0948, 'h': 190.6699, 'l': 188.9, 'o': 189.92, 'pc': 189.97, 't': 1701118800}\n",
      "{'c': 236.08, 'd': 0.63, 'dp': 0.2676, 'h': 238.33, 'l': 232.1, 'o': 236.89, 'pc': 235.45, 't': 1701118800}\n",
      "{'c': 61.31, 'd': -0.7, 'dp': -1.1289, 'h': 61.855, 'l': 61.255, 'o': 61.71, 'pc': 62.01, 't': 1701118801}\n"
     ]
    }
   ],
   "source": [
    "def get_price(ticker):\n",
    "    finnhub_client = finnhub.Client(api_key=\"clil6rpr01qvsg5971j0clil6rpr01qvsg5971jg\")\n",
    "\n",
    "    return finnhub_client.quote(ticker)\n",
    "print(get_price(\"AAPL\"))\n",
    "print(get_price(\"TSLA\"))\n",
    "print(get_price(\"BHP\"))"
   ]
  },
  {
   "cell_type": "code",
   "execution_count": 31,
   "metadata": {},
   "outputs": [
    {
     "name": "stdout",
     "output_type": "stream",
     "text": [
      "Collecting finnhub-pythonNote: you may need to restart the kernel to use updated packages.\n"
     ]
    },
    {
     "name": "stderr",
     "output_type": "stream",
     "text": [
      "\n",
      "[notice] A new release of pip is available: 23.2.1 -> 23.3.1\n",
      "[notice] To update, run: python.exe -m pip install --upgrade pip\n"
     ]
    },
    {
     "name": "stdout",
     "output_type": "stream",
     "text": [
      "\n",
      "  Obtaining dependency information for finnhub-python from https://files.pythonhosted.org/packages/80/b0/d71a0ba93c28996b02f1e74f7b9a689211092c5415bab2d3b2985df04617/finnhub_python-2.4.19-py3-none-any.whl.metadata\n",
      "  Downloading finnhub_python-2.4.19-py3-none-any.whl.metadata (9.0 kB)\n",
      "Requirement already satisfied: requests>=2.22.0 in c:\\users\\harri\\appdata\\local\\programs\\python\\python311\\lib\\site-packages (from finnhub-python) (2.31.0)\n",
      "Requirement already satisfied: charset-normalizer<4,>=2 in c:\\users\\harri\\appdata\\local\\programs\\python\\python311\\lib\\site-packages (from requests>=2.22.0->finnhub-python) (3.2.0)\n",
      "Requirement already satisfied: idna<4,>=2.5 in c:\\users\\harri\\appdata\\local\\programs\\python\\python311\\lib\\site-packages (from requests>=2.22.0->finnhub-python) (3.4)\n",
      "Requirement already satisfied: urllib3<3,>=1.21.1 in c:\\users\\harri\\appdata\\local\\programs\\python\\python311\\lib\\site-packages (from requests>=2.22.0->finnhub-python) (1.26.18)\n",
      "Requirement already satisfied: certifi>=2017.4.17 in c:\\users\\harri\\appdata\\local\\programs\\python\\python311\\lib\\site-packages (from requests>=2.22.0->finnhub-python) (2023.7.22)\n",
      "Downloading finnhub_python-2.4.19-py3-none-any.whl (11 kB)\n",
      "Installing collected packages: finnhub-python\n",
      "Successfully installed finnhub-python-2.4.19\n"
     ]
    }
   ],
   "source": [
    "pip install finnhub-python"
   ]
  }
 ],
 "metadata": {
  "kernelspec": {
   "display_name": "Python 3",
   "language": "python",
   "name": "python3"
  },
  "language_info": {
   "codemirror_mode": {
    "name": "ipython",
    "version": 3
   },
   "file_extension": ".py",
   "mimetype": "text/x-python",
   "name": "python",
   "nbconvert_exporter": "python",
   "pygments_lexer": "ipython3",
   "version": "3.11.5"
  },
  "orig_nbformat": 4
 },
 "nbformat": 4,
 "nbformat_minor": 2
}
