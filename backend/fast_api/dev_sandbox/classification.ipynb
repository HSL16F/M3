{
 "cells": [
  {
   "cell_type": "code",
   "execution_count": 80,
   "metadata": {},
   "outputs": [],
   "source": [
    "import pandas as pd\n",
    "import openpyxl\n",
    "import json"
   ]
  },
  {
   "cell_type": "code",
   "execution_count": 62,
   "metadata": {},
   "outputs": [],
   "source": [
    "# file_path = \"C:\\\\Personal\\\\Projects\\\\M3\\\\backend\\\\datasets\\\\classification\\\\2-6 digit_2022_Codes.xlsx\"\n",
    "# file_path = \"C:\\Personal\\Projects\\M3\\backend\\fast_api\\dev_sandbox\\classification.ipynb\"\n",
    "file_path = \"..\\\\..\\\\datasets\\\\classification\\\\2-6 digit_2022_Codes.xlsx\"\n",
    "\n",
    "df = pd.read_excel(file_path)\n",
    "\n",
    "# Display the first few rows of the dataframe to understand its structure\n",
    "df.head()\n",
    "\n",
    "# Converting the '2022 NAICS US Code' to string for length comparison\n",
    "# Make sure to use the exact column name as it appears in your file\n",
    "df['2022 NAICS US   Code'] = df['2022 NAICS US   Code'].astype(str)\n",
    "\n",
    "df = df.drop(columns=[\"Unnamed: 3\", \"Unnamed: 4\"])\n",
    "\n",
    "# Filtering rows where '2022 NAICS US Code' length is equal to 2\n",
    "filtered_df = df[df['2022 NAICS US   Code'].str.len() == 2]\n",
    "\n",
    "# Displaying the filtered dataframe\n",
    "# filtered_df = filtered_df.drop(columns=[\"Unnamed: 3\", \"Unnamed: 4\"])\n",
    "# filtered_df = filtered_df.set_index(\"Seq. No.\")"
   ]
  },
  {
   "cell_type": "code",
   "execution_count": 78,
   "metadata": {},
   "outputs": [],
   "source": [
    "bound = 15 # Max value is 15, to search for final value, look for index >= 2051\n",
    "classification = {}\n",
    "for i in range(15):\n",
    "    lower_bound = filtered_df[\"2022 NAICS US   Code\"].index[i]\n",
    "    upper_bound = filtered_df[\"2022 NAICS US   Code\"].index[i + 1]\n",
    "    maximum_lower_bound = 2051\n",
    "    classification[filtered_df.iloc[i][\"2022 NAICS US Title\"]] = df.iloc[lower_bound:upper_bound][\"2022 NAICS US Title\"].unique()\n",
    "\n",
    "classification[filtered_df.iloc[16][\"2022 NAICS US Title\"]] = df.iloc[maximum_lower_bound:][\"2022 NAICS US Title\"].unique()"
   ]
  },
  {
   "cell_type": "code",
   "execution_count": 91,
   "metadata": {},
   "outputs": [
    {
     "data": {
      "text/plain": [
       "dict_keys(['Agriculture, Forestry, Fishing and Hunting', 'Mining, Quarrying, and Oil and Gas Extraction', 'Utilities', 'Construction', 'Wholesale Trade', 'Information', 'Finance and Insurance', 'Real Estate and Rental and Leasing', 'Professional, Scientific, and Technical Services', 'Management of Companies and Enterprises', 'Administrative and Support and Waste Management and Remediation Services', 'Educational Services', 'Health Care and Social Assistance', 'Arts, Entertainment, and Recreation', 'Accommodation and Food Services', 'Public Administration'])"
      ]
     },
     "execution_count": 91,
     "metadata": {},
     "output_type": "execute_result"
    }
   ],
   "source": [
    "classification.keys()"
   ]
  },
  {
   "cell_type": "code",
   "execution_count": 88,
   "metadata": {},
   "outputs": [
    {
     "name": "stdout",
     "output_type": "stream",
     "text": [
      "Classification data has been saved to classification.json\n"
     ]
    }
   ],
   "source": [
    "for key in classification:\n",
    "    # Convert ndarray to list if necessary (use `tolist()` method of ndarray)\n",
    "    # classification[key] = classification[key].tolist() if isinstance(classification[key], np.ndarray) else classification[key]\n",
    "\n",
    "    # Ensure uniqueness\n",
    "    classification[key] = list(set(classification[key]))\n",
    "\n",
    "# Writing the dictionary to a file as JSON\n",
    "filename = 'classification.json'\n",
    "with open(filename, 'w', encoding='utf-8') as f:\n",
    "    json.dump(classification, f, ensure_ascii=False, indent=4)\n",
    "\n",
    "print(f\"Classification data has been saved to {filename}\")"
   ]
  },
  {
   "cell_type": "code",
   "execution_count": 116,
   "metadata": {},
   "outputs": [
    {
     "data": {
      "text/plain": [
       "0      WHEAT & PRODUCTS\n",
       "1      WHEAT & PRODUCTS\n",
       "2      WHEAT & PRODUCTS\n",
       "3      WHEAT & PRODUCTS\n",
       "4      WHEAT & PRODUCTS\n",
       "             ...       \n",
       "484       FISH BODY OIL\n",
       "485     FISH LIVER OILS\n",
       "486     FISH LIVER OILS\n",
       "487     FISH LIVER OILS\n",
       "488     FISH LIVER OILS\n",
       "Name: 0, Length: 489, dtype: object"
      ]
     },
     "execution_count": 116,
     "metadata": {},
     "output_type": "execute_result"
    }
   ],
   "source": [
    "import requests\n",
    "import pandas as pd\n",
    "from bs4 import BeautifulSoup\n",
    "\n",
    "# URL of the page to scrape\n",
    "url = 'https://www.fao.org/economic/the-statistics-division-ess/publications-studies/publications/list-of-commodities/commodities-which-are-aggregated-or-standardized-to-their-primary-equivalent-in-commodity-balances-demand-and-food-balance-sheets/en/'\n",
    "\n",
    "# Send a GET request to the URL\n",
    "response = requests.get(url)\n",
    "\n",
    "# Check if the request was successful\n",
    "if response.status_code == 200:\n",
    "    # Use BeautifulSoup to parse the HTML content\n",
    "    soup = BeautifulSoup(response.content, 'html.parser')\n",
    "    \n",
    "    # Find the table in the HTML content. You may need to adjust this if there are multiple tables or if the class name is different\n",
    "    table = soup.find('table', {'class': 'contenttable'})\n",
    "    \n",
    "    # Read the table using pandas\n",
    "    df_list = pd.read_html(str(table))\n",
    "    \n",
    "    # Assuming there is only one table, get the first table\n",
    "    data_df = df_list[0]\n",
    "    \n",
    "    # Print the dataframe\n",
    "    print(data_df)\n",
    "else:\n",
    "    print(f\"Failed to retrieve content, status code: {response.status_code}\")\n"
   ]
  },
  {
   "cell_type": "code",
   "execution_count": 107,
   "metadata": {},
   "outputs": [
    {
     "data": {
      "text/plain": [
       "['WHEAT & PRODUCTS',\n",
       " 'RICE & PROD (MILLED EQ.)',\n",
       " 'BARLEY & PRODUCTS',\n",
       " 'MAIZE & PRODUCTS',\n",
       " 'RYE & PRODUCTS',\n",
       " 'OATS & PRODUCTS',\n",
       " 'MILLET & PRODUCTS',\n",
       " 'SORGHUM & PRODUCTS',\n",
       " 'CEREALS,OTHERS &PRODUCTS',\n",
       " 'POTATOES & PRODUCTS',\n",
       " 'CASSAVA & PRODUCTS',\n",
       " 'SWEET POTATOES',\n",
       " 'ROOTS & TUBERS, OTHER',\n",
       " 'YAMS',\n",
       " 'SUGAR CANE',\n",
       " 'SUGAR BEETS',\n",
       " 'SUGAR, NON-CENTRIFUGAL',\n",
       " 'SUGAR & PROD. (RAW EQUIVALENT.)',\n",
       " 'SWEETENERS, OTHER & PRODUCTS',\n",
       " 'BEANS, DRY & PRODUCTS',\n",
       " 'PEAS, DRY & PRODUCTS',\n",
       " 'PULSES, OTHER & PROD.',\n",
       " 'NUTS & PRODUCTS',\n",
       " 'SOYABEANS & PRODUCTS',\n",
       " 'GROUNDNUTS',\n",
       " 'SUNFLOWER SEED',\n",
       " 'RAPE, MUSTARD SEEDS',\n",
       " 'COTTONSEED',\n",
       " 'COCONUTS & COPRA',\n",
       " 'SESAME SEED',\n",
       " 'PALMKERNELS',\n",
       " 'OLIVES',\n",
       " 'OILCROPS, OTHERS',\n",
       " 'SOYABEAN OIL',\n",
       " 'GROUNDNUT OIL',\n",
       " 'SUNFLOWERSEED OIL',\n",
       " 'RAPE & MUSTARD OIL',\n",
       " 'COTTONSEED OIL',\n",
       " 'PALM KERNEL OIL',\n",
       " 'PALM OIL',\n",
       " 'OIL OF COCONUTS',\n",
       " 'SESAMESEED OIL',\n",
       " 'OLIVE & RESIDUE, OIL',\n",
       " 'RICE, BRAN OIL',\n",
       " 'MAIZE, GERM OIL',\n",
       " 'OILCROPS, OTHER OIL',\n",
       " 'TOMATOES & PRODUCTS',\n",
       " 'ONIONS, DRY',\n",
       " 'VEGETABLES, OTHER & PRODUCTS',\n",
       " 'ORANGES,TANGARINES & MANDARINES &PRODUCTS',\n",
       " 'LEMONS, LIMES & PROD.',\n",
       " 'GRAPEFRUIT & PRODUCTS',\n",
       " 'CITRUS FRUIT NES & PROD',\n",
       " 'BANANA',\n",
       " 'PLANTAINS',\n",
       " 'APPLES & PRODUCTS',\n",
       " 'PINEAPPLES & PRODUCTS',\n",
       " 'DATES',\n",
       " 'GRAPES & PROD(EXCL.WINE',\n",
       " 'FRUIT, OTHER & PRODUCTS',\n",
       " 'COFFEE & PRODUCTS',\n",
       " 'COCOA BEANS & PRODUCTS',\n",
       " 'TEA',\n",
       " 'PEPPER',\n",
       " 'PIMENTO',\n",
       " 'CLOVES',\n",
       " 'SPICES, OTHER',\n",
       " 'WINE',\n",
       " 'BARLEY, BEER',\n",
       " 'BEVERAGES FERMENTED',\n",
       " 'BEVERAGES DISTILLED ALCOHOLIC',\n",
       " 'INFANT FOOD',\n",
       " 'MEAT & PRODUCTS, BOVINE',\n",
       " 'MEAT & PRODUCTS, SHEEP&GOAT',\n",
       " 'MEAT & PRODUCTS, PIG',\n",
       " 'MEAT & PRODUCTS, POULTRY',\n",
       " 'MEAT & PROD, OTHER ANIM',\n",
       " 'OFFALS, EDIBLE',\n",
       " 'FATS, ANIMALS, RAW',\n",
       " 'BUTTER ,GHEE',\n",
       " 'CREAM',\n",
       " 'EGGS & PRODUCTS',\n",
       " 'HONEY',\n",
       " 'MEAT & BLOOD MEAL',\n",
       " 'MILK & PRODUCTS (EXCLUDING BUTTER)',\n",
       " 'CRUSTACEANS & PRODUCTS',\n",
       " 'MOLLUSCS OTHER &PRODUCT',\n",
       " 'AQUATIC MAMMALS MEAT',\n",
       " 'AQUATIC ANIMAL OTHERS',\n",
       " 'AQUATIC PLANTS & PROD.',\n",
       " 'FISH BODY OIL',\n",
       " 'FISH LIVER OILS']"
      ]
     },
     "execution_count": 107,
     "metadata": {},
     "output_type": "execute_result"
    }
   ],
   "source": [
    "filename = \"natural_commoditity_sectors.json\"\n",
    "\n",
    "# Open the JSON file and load the data\n",
    "with open(filename, 'r') as file:\n",
    "    data = json.load(file)\n",
    "\n",
    "# Now 'data' is a Python dictionary containing your JSON data\n",
    "# You can access and manipulate it as needed\n",
    "# For example, to print the data:\n",
    "print(data)"
   ]
  },
  {
   "cell_type": "code",
   "execution_count": 119,
   "metadata": {},
   "outputs": [
    {
     "name": "stdout",
     "output_type": "stream",
     "text": [
      "Classification data has been saved to agricultural_commodity_subsectors.json\n"
     ]
    }
   ],
   "source": []
  }
 ],
 "metadata": {
  "kernelspec": {
   "display_name": "Python 3",
   "language": "python",
   "name": "python3"
  },
  "language_info": {
   "codemirror_mode": {
    "name": "ipython",
    "version": 3
   },
   "file_extension": ".py",
   "mimetype": "text/x-python",
   "name": "python",
   "nbconvert_exporter": "python",
   "pygments_lexer": "ipython3",
   "version": "3.12.0"
  }
 },
 "nbformat": 4,
 "nbformat_minor": 2
}
